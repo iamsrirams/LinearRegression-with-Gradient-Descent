{
 "cells": [
  {
   "cell_type": "markdown",
   "metadata": {},
   "source": [
    "## Gradient Descent\n",
    "**Gradient Descent** is algorithm helps to minimize a function i.e it finds the minimum value of a function i.e the value at local minima. \n",
    "At first the gradient descent algorithm is given a initial set of parameters for a particular function defined by some set parameters. It then **iteratively** moves towards a set of parameter values that minimize the function.**Iterative** minimization is achieved using calculus, taking steps in the **negative** direction of the functions gradient. "
   ]
  },
  {
   "cell_type": "markdown",
   "metadata": {},
   "source": [
    "## Linear Regression\n",
    "**Linear regression** helps us to find out linear relationships in a given data set i.e it figures out a line which best fits the data.\n",
    "The standard equation for a line in a Cartesian XY plane is given by $y = mx + b$ where m is the slope of line and b is the y-intercept.\n",
    "To find the best line that fits our data we need to **optimize** the values of m and b."
   ]
  },
  {
   "cell_type": "code",
   "execution_count": 31,
   "metadata": {},
   "outputs": [
    {
     "name": "stdout",
     "output_type": "stream",
     "text": [
      "Number of Data Points:1020\n"
     ]
    },
    {
     "data": {
      "text/plain": [
       "[<matplotlib.lines.Line2D at 0x11518a450>]"
      ]
     },
     "execution_count": 31,
     "metadata": {},
     "output_type": "execute_result"
    },
    {
     "data": {
      "image/png": "[encoded data removed]",
      "text/plain": [
       "<matplotlib.figure.Figure at 0x116214850>"
      ]
     },
     "metadata": {},
     "output_type": "display_data"
    }
   ],
   "source": [
    "% pylab inline\n",
    "## Load the data\n",
    "def read_data():\n",
    "    data_file = open(\"india_foot_height.dat\",\"r\")\n",
    "    raw_data = data_file.readlines()\n",
    "    data_file.close()\n",
    "    return [line.strip().split(\"  \") for line in raw_data]\n",
    "\n",
    "## Store the data for further functions\n",
    "fh_data = read_data()\n",
    "print(\"Number of Data Points:{}\".format(len(fh_data)))\n",
    "## Plot the data\n",
    "plot([x[0] for x in fh_data],[x[1] for x in fh_data],'ro',color='blue',marker='p')"
   ]
  },
  {
   "cell_type": "markdown",
   "metadata": {},
   "source": [
    "### Error Function\n",
    "The standard way of finding the best line is to define a error function that calculates the error for a given values of m & b for all the points. By this way the error function measures how good a line is for a set of m & b. A popular error function is the squared error function which is defined as \n",
    "$$ E = \\frac{1}{N}\\sum_{i=0}^N(t_i - (mx_i + b) )^2 $$\n",
    "The error distance is **squared** to ensure that the error remains positive for all x & the error function is differentiable. The better fitted lines result lower values of error function"
   ]
  },
  {
   "cell_type": "code",
   "execution_count": 32,
   "metadata": {
    "collapsed": true
   },
   "outputs": [],
   "source": [
    "def error(b,m):\n",
    "    totalError = 0\n",
    "    for point in fh_data:\n",
    "        x = float(point[0])\n",
    "        y = float(point[1])\n",
    "        totalError += (y - m*x - b)**2\n",
    "    return totalError/float(len(fh_data))"
   ]
  },
  {
   "cell_type": "markdown",
   "metadata": {},
   "source": [
    "The X & Y axes represent the corresponding m & b values & the Z axis gives the corresponding error value. Starting from some where in the plot the gradient descent algorithm moves downhill to search for the optimal value of m & b. With each iteration it will **update** the b & m values to a line which gives lower error rates"
   ]
  },
  {
   "cell_type": "markdown",
   "metadata": {},
   "source": [
    "### Running Gradient Descent\n",
    "To run gradient descent on the error function, first we need to compute the gradient. As the error function $E(m,b)$ is a function of two variables the corresponding gradients are \n",
    "$$ \\frac{\\partial E}{\\partial m} = \\frac{2}{N}(t_i - mx_i - b)(-x) \\ \\ ,\\ \\frac{\\partial E}{\\partial b} = \\frac{2}{N}(t_i - mx_i - b)(-1)$$\n",
    "The gradient descent algorithm uses values of these two functions to calculate the step value & the direction to move\n"
   ]
  },
  {
   "cell_type": "code",
   "execution_count": 33,
   "metadata": {
    "collapsed": true
   },
   "outputs": [],
   "source": [
    "def step_gradient(current_b,current_m):\n",
    "    de_dm = 0\n",
    "    de_db = 0\n",
    "    N = float(len(fh_data))\n",
    "    for point in fh_data:\n",
    "        x = float(point[0])\n",
    "        t = float(point[1])\n",
    "        de_dm += (-2/N)*(t - current_m * x + current_b)*(x)\n",
    "        de_db += (-2/N)*(t - current_m * x + current_b)\n",
    "    new_b = current_b - de_db*learning_rate\n",
    "    new_m = current_m - de_dm*learning_rate\n",
    "    \n",
    "    return [new_b,new_m]"
   ]
  },
  {
   "cell_type": "markdown",
   "metadata": {},
   "source": [
    "#### Learning Rate\n",
    "The Learning Rate variable determines how large step we should take downhill during each iteration. A long step may step over the minimum & a very small rate will take longer time to finish"
   ]
  },
  {
   "cell_type": "code",
   "execution_count": 34,
   "metadata": {
    "collapsed": true
   },
   "outputs": [],
   "source": [
    "learning_rate = 0.0001\n",
    "iterations = 1000\n",
    "# Define Some Variables For Plotting\n",
    "errors = []\n",
    "b_values = []\n",
    "m_values = []"
   ]
  },
  {
   "cell_type": "code",
   "execution_count": 35,
   "metadata": {
    "collapsed": true
   },
   "outputs": [],
   "source": [
    "def gradient_descent(i_b,i_m):\n",
    "    b = i_b\n",
    "    m = i_m\n",
    "    for i in range(iterations):\n",
    "        b,m = step_gradient(b,m)\n",
    "        errors.append(error(b,m))\n",
    "        b_values.append(b)\n",
    "        m_values.append(m)\n",
    "    return [b,m]"
   ]
  },
  {
   "cell_type": "code",
   "execution_count": 36,
   "metadata": {},
   "outputs": [],
   "source": [
    "def run():\n",
    "    initial_b = 0\n",
    "    initial_m = 0\n",
    "    print(\"Initial m:{} & initial b:{}\".format(initial_m,initial_b))\n",
    "    plot([x[0] for x in fh_data],[x[1] for x in fh_data],'ro',color='red')\n",
    "    \n",
    "    print(\"Initial Error:{}\".format(error(initial_b,initial_m)))\n",
    "    [b,m] = gradient_descent(initial_b,initial_m)\n",
    "    print(\"After {} iterations, final b: {},final m:{}\".format(iterations,b,m))\n",
    "    print(\"Final Error: {}\".format(error(b,m)))\n",
    "    plot([x for x in range(22,29)],[(m*x + b) for x in range(22,29)],color='blue')\n",
    "    return [b,m]"
   ]
  },
  {
   "cell_type": "code",
   "execution_count": 37,
   "metadata": {},
   "outputs": [
    {
     "name": "stdout",
     "output_type": "stream",
     "text": [
      "Initial m:0 & initial b:0\n",
      "Initial Error:30189.0928471\n",
      "After 1000 iterations, final b: 0.327586088887,final m:7.05683845685\n",
      "Final Error: 37.484904175\n"
     ]
    },
    {
     "data": {
      "image/png": "[encoded data removed]",
      "text/plain": [
       "<matplotlib.figure.Figure at 0x113e54610>"
      ]
     },
     "metadata": {},
     "output_type": "display_data"
    }
   ],
   "source": [
    "[b,m] = run()"
   ]
  },
  {
   "cell_type": "code",
   "execution_count": 38,
   "metadata": {},
   "outputs": [
    {
     "data": {
      "text/plain": [
       "[<matplotlib.lines.Line2D at 0x1165f4150>]"
      ]
     },
     "execution_count": 38,
     "metadata": {},
     "output_type": "execute_result"
    },
    {
     "data": {
      "image/png": "[encoded data removed]",
      "text/plain": [
       "<matplotlib.figure.Figure at 0x1175e5110>"
      ]
     },
     "metadata": {},
     "output_type": "display_data"
    }
   ],
   "source": [
    "# Lets Plot Error Vs Iteration\n",
    "len(errors)\n",
    "plot(errors[:50])"
   ]
  },
  {
   "cell_type": "code",
   "execution_count": 39,
   "metadata": {
    "collapsed": true
   },
   "outputs": [],
   "source": [
    "def find_my_height(shoesize):\n",
    "    \"\"\"\n",
    "    Input: Shoesize in cm\n",
    "    Output: Height in cm\n",
    "    \"\"\"\n",
    "    return (m*shoesize + b)"
   ]
  },
  {
   "cell_type": "code",
   "execution_count": 40,
   "metadata": {},
   "outputs": [
    {
     "data": {
      "text/plain": [
       "162.6348705963926"
      ]
     },
     "execution_count": 40,
     "metadata": {},
     "output_type": "execute_result"
    }
   ],
   "source": [
    "find_my_height(23) "
   ]
  },
  {
   "cell_type": "markdown",
   "metadata": {},
   "source": [
    "Use this chart to convert shoe size to cm\n",
    "![http://www.activityshelter.com/wp-content/uploads/2016/06/mens-shoe-size-chart-countries.jpg](http://www.activityshelter.com/wp-content/uploads/2016/06/mens-shoe-size-chart-countries.jpg)"
   ]
  },
  {
   "cell_type": "markdown",
   "metadata": {},
   "source": [
    "## Credits##\n",
    "Thanks to Siraj ,Joydeep Mukherjee\n",
    "& MATT https://spin.atomicobject.com/2014/06/24/gradient-descent-linear-regression/"
   ]
  }
 ],
 "metadata": {
  "kernelspec": {
   "display_name": "Python 2",
   "language": "python",
   "name": "python2"
  },
  "language_info": {
   "codemirror_mode": {
    "name": "ipython",
    "version": 2
   },
   "file_extension": ".py",
   "mimetype": "text/x-python",
   "name": "python",
   "nbconvert_exporter": "python",
   "pygments_lexer": "ipython2",
   "version": "2.7.13"
  }
 },
 "nbformat": 4,
 "nbformat_minor": 2
}
